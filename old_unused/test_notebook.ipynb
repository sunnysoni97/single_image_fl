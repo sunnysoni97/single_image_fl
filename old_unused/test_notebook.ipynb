{
 "cells": [
  {
   "cell_type": "code",
   "execution_count": 7,
   "metadata": {},
   "outputs": [],
   "source": [
    "from torchvision.models import resnet18\n",
    "import torch.nn as nn"
   ]
  },
  {
   "cell_type": "code",
   "execution_count": 8,
   "metadata": {},
   "outputs": [],
   "source": [
    "model = resnet18(weights=None, progress=False)"
   ]
  },
  {
   "cell_type": "code",
   "execution_count": 9,
   "metadata": {},
   "outputs": [
    {
     "name": "stdout",
     "output_type": "stream",
     "text": [
      "<class 'torchvision.models.resnet.ResNet'>\n",
      "Linear(in_features=512, out_features=1000, bias=True)\n"
     ]
    }
   ],
   "source": [
    "print(type(model))\n",
    "print(model.fc)"
   ]
  },
  {
   "cell_type": "code",
   "execution_count": 10,
   "metadata": {},
   "outputs": [],
   "source": [
    "model.fc = nn.Linear(in_features=model.fc.in_features,out_features=10,bias=True)"
   ]
  },
  {
   "cell_type": "code",
   "execution_count": 11,
   "metadata": {},
   "outputs": [
    {
     "name": "stdout",
     "output_type": "stream",
     "text": [
      "Linear(in_features=512, out_features=10, bias=True)\n"
     ]
    }
   ],
   "source": [
    "print(model.fc)"
   ]
  },
  {
   "cell_type": "code",
   "execution_count": 12,
   "metadata": {},
   "outputs": [
    {
     "name": "stdout",
     "output_type": "stream",
     "text": [
      "Name : conv1.weight, Parameter shape : torch.Size([64, 3, 7, 7])\n",
      "Name : bn1.weight, Parameter shape : torch.Size([64])\n",
      "Name : bn1.bias, Parameter shape : torch.Size([64])\n",
      "Name : layer1.0.conv1.weight, Parameter shape : torch.Size([64, 64, 3, 3])\n",
      "Name : layer1.0.bn1.weight, Parameter shape : torch.Size([64])\n",
      "Name : layer1.0.bn1.bias, Parameter shape : torch.Size([64])\n",
      "Name : layer1.0.conv2.weight, Parameter shape : torch.Size([64, 64, 3, 3])\n",
      "Name : layer1.0.bn2.weight, Parameter shape : torch.Size([64])\n",
      "Name : layer1.0.bn2.bias, Parameter shape : torch.Size([64])\n",
      "Name : layer1.1.conv1.weight, Parameter shape : torch.Size([64, 64, 3, 3])\n",
      "Name : layer1.1.bn1.weight, Parameter shape : torch.Size([64])\n",
      "Name : layer1.1.bn1.bias, Parameter shape : torch.Size([64])\n",
      "Name : layer1.1.conv2.weight, Parameter shape : torch.Size([64, 64, 3, 3])\n",
      "Name : layer1.1.bn2.weight, Parameter shape : torch.Size([64])\n",
      "Name : layer1.1.bn2.bias, Parameter shape : torch.Size([64])\n",
      "Name : layer2.0.conv1.weight, Parameter shape : torch.Size([128, 64, 3, 3])\n",
      "Name : layer2.0.bn1.weight, Parameter shape : torch.Size([128])\n",
      "Name : layer2.0.bn1.bias, Parameter shape : torch.Size([128])\n",
      "Name : layer2.0.conv2.weight, Parameter shape : torch.Size([128, 128, 3, 3])\n",
      "Name : layer2.0.bn2.weight, Parameter shape : torch.Size([128])\n",
      "Name : layer2.0.bn2.bias, Parameter shape : torch.Size([128])\n",
      "Name : layer2.0.downsample.0.weight, Parameter shape : torch.Size([128, 64, 1, 1])\n",
      "Name : layer2.0.downsample.1.weight, Parameter shape : torch.Size([128])\n",
      "Name : layer2.0.downsample.1.bias, Parameter shape : torch.Size([128])\n",
      "Name : layer2.1.conv1.weight, Parameter shape : torch.Size([128, 128, 3, 3])\n",
      "Name : layer2.1.bn1.weight, Parameter shape : torch.Size([128])\n",
      "Name : layer2.1.bn1.bias, Parameter shape : torch.Size([128])\n",
      "Name : layer2.1.conv2.weight, Parameter shape : torch.Size([128, 128, 3, 3])\n",
      "Name : layer2.1.bn2.weight, Parameter shape : torch.Size([128])\n",
      "Name : layer2.1.bn2.bias, Parameter shape : torch.Size([128])\n",
      "Name : layer3.0.conv1.weight, Parameter shape : torch.Size([256, 128, 3, 3])\n",
      "Name : layer3.0.bn1.weight, Parameter shape : torch.Size([256])\n",
      "Name : layer3.0.bn1.bias, Parameter shape : torch.Size([256])\n",
      "Name : layer3.0.conv2.weight, Parameter shape : torch.Size([256, 256, 3, 3])\n",
      "Name : layer3.0.bn2.weight, Parameter shape : torch.Size([256])\n",
      "Name : layer3.0.bn2.bias, Parameter shape : torch.Size([256])\n",
      "Name : layer3.0.downsample.0.weight, Parameter shape : torch.Size([256, 128, 1, 1])\n",
      "Name : layer3.0.downsample.1.weight, Parameter shape : torch.Size([256])\n",
      "Name : layer3.0.downsample.1.bias, Parameter shape : torch.Size([256])\n",
      "Name : layer3.1.conv1.weight, Parameter shape : torch.Size([256, 256, 3, 3])\n",
      "Name : layer3.1.bn1.weight, Parameter shape : torch.Size([256])\n",
      "Name : layer3.1.bn1.bias, Parameter shape : torch.Size([256])\n",
      "Name : layer3.1.conv2.weight, Parameter shape : torch.Size([256, 256, 3, 3])\n",
      "Name : layer3.1.bn2.weight, Parameter shape : torch.Size([256])\n",
      "Name : layer3.1.bn2.bias, Parameter shape : torch.Size([256])\n",
      "Name : layer4.0.conv1.weight, Parameter shape : torch.Size([512, 256, 3, 3])\n",
      "Name : layer4.0.bn1.weight, Parameter shape : torch.Size([512])\n",
      "Name : layer4.0.bn1.bias, Parameter shape : torch.Size([512])\n",
      "Name : layer4.0.conv2.weight, Parameter shape : torch.Size([512, 512, 3, 3])\n",
      "Name : layer4.0.bn2.weight, Parameter shape : torch.Size([512])\n",
      "Name : layer4.0.bn2.bias, Parameter shape : torch.Size([512])\n",
      "Name : layer4.0.downsample.0.weight, Parameter shape : torch.Size([512, 256, 1, 1])\n",
      "Name : layer4.0.downsample.1.weight, Parameter shape : torch.Size([512])\n",
      "Name : layer4.0.downsample.1.bias, Parameter shape : torch.Size([512])\n",
      "Name : layer4.1.conv1.weight, Parameter shape : torch.Size([512, 512, 3, 3])\n",
      "Name : layer4.1.bn1.weight, Parameter shape : torch.Size([512])\n",
      "Name : layer4.1.bn1.bias, Parameter shape : torch.Size([512])\n",
      "Name : layer4.1.conv2.weight, Parameter shape : torch.Size([512, 512, 3, 3])\n",
      "Name : layer4.1.bn2.weight, Parameter shape : torch.Size([512])\n",
      "Name : layer4.1.bn2.bias, Parameter shape : torch.Size([512])\n",
      "Name : fc.weight, Parameter shape : torch.Size([10, 512])\n",
      "Name : fc.bias, Parameter shape : torch.Size([10])\n"
     ]
    }
   ],
   "source": [
    "for (name, parameter) in model.named_parameters():\n",
    "    print(f'Name : {name}, Parameter shape : {parameter.size()}')"
   ]
  }
 ],
 "metadata": {
  "kernelspec": {
   "display_name": "single_image_fl",
   "language": "python",
   "name": "python3"
  },
  "language_info": {
   "codemirror_mode": {
    "name": "ipython",
    "version": 3
   },
   "file_extension": ".py",
   "mimetype": "text/x-python",
   "name": "python",
   "nbconvert_exporter": "python",
   "pygments_lexer": "ipython3",
   "version": "3.10.6"
  },
  "orig_nbformat": 4
 },
 "nbformat": 4,
 "nbformat_minor": 2
}
