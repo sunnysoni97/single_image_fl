{
 "cells": [
  {
   "cell_type": "code",
   "execution_count": 1,
   "metadata": {},
   "outputs": [],
   "source": [
    "from models.cifar_resnet import cifar_resnet\n",
    "import torch\n",
    "from pprint import pprint"
   ]
  },
  {
   "cell_type": "code",
   "execution_count": 2,
   "metadata": {},
   "outputs": [
    {
     "name": "stdout",
     "output_type": "stream",
     "text": [
      "Initialised resnet for evaluation\n"
     ]
    }
   ],
   "source": [
    "cresnet8 = cifar_resnet(variant=8).to(torch.device('cuda'))\n",
    "cresnet8.eval()\n",
    "print('Initialised resnet for evaluation')"
   ]
  },
  {
   "cell_type": "code",
   "execution_count": 3,
   "metadata": {},
   "outputs": [],
   "source": [
    "from fed_df_data_loader.get_crops_dataloader import get_distill_imgloader\n",
    "\n",
    "distill_dataloader = get_distill_imgloader('./data/single_img_crops/crops', dataset_name='cifar10', batch_size=1024)"
   ]
  },
  {
   "cell_type": "code",
   "execution_count": 4,
   "metadata": {},
   "outputs": [],
   "source": [
    "from strategy.clustering import cluster_embeddings"
   ]
  },
  {
   "cell_type": "code",
   "execution_count": 5,
   "metadata": {},
   "outputs": [],
   "source": [
    "device = torch.device('cuda')\n",
    "test_df,score = cluster_embeddings(dataloader=distill_dataloader, model=cresnet8, device=device, seed=42)"
   ]
  },
  {
   "cell_type": "code",
   "execution_count": 6,
   "metadata": {},
   "outputs": [
    {
     "name": "stdout",
     "output_type": "stream",
     "text": [
      "5903.41796875\n"
     ]
    },
    {
     "data": {
      "text/html": [
       "<div>\n",
       "<style scoped>\n",
       "    .dataframe tbody tr th:only-of-type {\n",
       "        vertical-align: middle;\n",
       "    }\n",
       "\n",
       "    .dataframe tbody tr th {\n",
       "        vertical-align: top;\n",
       "    }\n",
       "\n",
       "    .dataframe thead th {\n",
       "        text-align: right;\n",
       "    }\n",
       "</style>\n",
       "<table border=\"1\" class=\"dataframe\">\n",
       "  <thead>\n",
       "    <tr style=\"text-align: right;\">\n",
       "      <th></th>\n",
       "      <th>img</th>\n",
       "      <th>cluster</th>\n",
       "      <th>cluster_dist</th>\n",
       "    </tr>\n",
       "    <tr>\n",
       "      <th>img_no</th>\n",
       "      <th></th>\n",
       "      <th></th>\n",
       "      <th></th>\n",
       "    </tr>\n",
       "  </thead>\n",
       "  <tbody>\n",
       "    <tr>\n",
       "      <th>0</th>\n",
       "      <td>[[[[-2.390296   -2.4290657  -2.4290657  -2.429...</td>\n",
       "      <td>6</td>\n",
       "      <td>0.252349</td>\n",
       "    </tr>\n",
       "    <tr>\n",
       "      <th>1</th>\n",
       "      <td>[[[[ 1.4479177   1.5836121   0.8469853   2.126...</td>\n",
       "      <td>5</td>\n",
       "      <td>0.339305</td>\n",
       "    </tr>\n",
       "    <tr>\n",
       "      <th>2</th>\n",
       "      <td>[[[[-2.4290657  -2.4096808   1.4673026   1.622...</td>\n",
       "      <td>5</td>\n",
       "      <td>0.367668</td>\n",
       "    </tr>\n",
       "    <tr>\n",
       "      <th>3</th>\n",
       "      <td>[[[[-0.8395026  -0.95581204  0.24605286  1.215...</td>\n",
       "      <td>2</td>\n",
       "      <td>0.243068</td>\n",
       "    </tr>\n",
       "    <tr>\n",
       "      <th>4</th>\n",
       "      <td>[[[[ 1.5836121   1.370378    0.90514     0.827...</td>\n",
       "      <td>5</td>\n",
       "      <td>0.260242</td>\n",
       "    </tr>\n",
       "  </tbody>\n",
       "</table>\n",
       "</div>"
      ],
      "text/plain": [
       "                                                      img  cluster  \\\n",
       "img_no                                                               \n",
       "0       [[[[-2.390296   -2.4290657  -2.4290657  -2.429...        6   \n",
       "1       [[[[ 1.4479177   1.5836121   0.8469853   2.126...        5   \n",
       "2       [[[[-2.4290657  -2.4096808   1.4673026   1.622...        5   \n",
       "3       [[[[-0.8395026  -0.95581204  0.24605286  1.215...        2   \n",
       "4       [[[[ 1.5836121   1.370378    0.90514     0.827...        5   \n",
       "\n",
       "        cluster_dist  \n",
       "img_no                \n",
       "0           0.252349  \n",
       "1           0.339305  \n",
       "2           0.367668  \n",
       "3           0.243068  \n",
       "4           0.260242  "
      ]
     },
     "execution_count": 6,
     "metadata": {},
     "output_type": "execute_result"
    }
   ],
   "source": [
    "print(score)\n",
    "test_df.head()"
   ]
  },
  {
   "cell_type": "code",
   "execution_count": 7,
   "metadata": {},
   "outputs": [],
   "source": [
    "from strategy.clustering import prune_clusters"
   ]
  },
  {
   "cell_type": "code",
   "execution_count": 10,
   "metadata": {},
   "outputs": [
    {
     "name": "stdout",
     "output_type": "stream",
     "text": [
      "3000\n"
     ]
    },
    {
     "data": {
      "text/plain": [
       "cluster\n",
       "7    604\n",
       "4    533\n",
       "2    287\n",
       "3    275\n",
       "5    267\n",
       "0    245\n",
       "1    221\n",
       "6    213\n",
       "8    205\n",
       "9    150\n",
       "dtype: int64"
      ]
     },
     "execution_count": 10,
     "metadata": {},
     "output_type": "execute_result"
    }
   ],
   "source": [
    "test_df2 = prune_clusters(test_df,n_crops=3000,heuristic_percentage=\"60-40\")\n",
    "print(len(test_df2))\n",
    "test_df2.value_counts('cluster')"
   ]
  },
  {
   "cell_type": "code",
   "execution_count": 11,
   "metadata": {},
   "outputs": [
    {
     "data": {
      "text/html": [
       "<div>\n",
       "<style scoped>\n",
       "    .dataframe tbody tr th:only-of-type {\n",
       "        vertical-align: middle;\n",
       "    }\n",
       "\n",
       "    .dataframe tbody tr th {\n",
       "        vertical-align: top;\n",
       "    }\n",
       "\n",
       "    .dataframe thead th {\n",
       "        text-align: right;\n",
       "    }\n",
       "</style>\n",
       "<table border=\"1\" class=\"dataframe\">\n",
       "  <thead>\n",
       "    <tr style=\"text-align: right;\">\n",
       "      <th></th>\n",
       "      <th>img</th>\n",
       "      <th>cluster</th>\n",
       "      <th>cluster_dist</th>\n",
       "    </tr>\n",
       "    <tr>\n",
       "      <th>img_no</th>\n",
       "      <th></th>\n",
       "      <th></th>\n",
       "      <th></th>\n",
       "    </tr>\n",
       "  </thead>\n",
       "  <tbody>\n",
       "    <tr>\n",
       "      <th>1391</th>\n",
       "      <td>[[[[2.01008   2.281469  2.3202388 2.4171634 2....</td>\n",
       "      <td>8</td>\n",
       "      <td>0.162168</td>\n",
       "    </tr>\n",
       "    <tr>\n",
       "      <th>160</th>\n",
       "      <td>[[[[2.514088   2.3977785  2.1651595  2.514088 ...</td>\n",
       "      <td>8</td>\n",
       "      <td>0.186152</td>\n",
       "    </tr>\n",
       "  </tbody>\n",
       "</table>\n",
       "</div>"
      ],
      "text/plain": [
       "                                                      img  cluster  \\\n",
       "img_no                                                               \n",
       "1391    [[[[2.01008   2.281469  2.3202388 2.4171634 2....        8   \n",
       "160     [[[[2.514088   2.3977785  2.1651595  2.514088 ...        8   \n",
       "\n",
       "        cluster_dist  \n",
       "img_no                \n",
       "1391        0.162168  \n",
       "160         0.186152  "
      ]
     },
     "execution_count": 11,
     "metadata": {},
     "output_type": "execute_result"
    }
   ],
   "source": [
    "grp8 = test_df2.groupby('cluster').get_group(8).sort_values(by='cluster_dist')\n",
    "grp8.head(2)\n"
   ]
  },
  {
   "cell_type": "code",
   "execution_count": 12,
   "metadata": {},
   "outputs": [
    {
     "data": {
      "text/html": [
       "<div>\n",
       "<style scoped>\n",
       "    .dataframe tbody tr th:only-of-type {\n",
       "        vertical-align: middle;\n",
       "    }\n",
       "\n",
       "    .dataframe tbody tr th {\n",
       "        vertical-align: top;\n",
       "    }\n",
       "\n",
       "    .dataframe thead th {\n",
       "        text-align: right;\n",
       "    }\n",
       "</style>\n",
       "<table border=\"1\" class=\"dataframe\">\n",
       "  <thead>\n",
       "    <tr style=\"text-align: right;\">\n",
       "      <th></th>\n",
       "      <th>img</th>\n",
       "      <th>cluster</th>\n",
       "      <th>cluster_dist</th>\n",
       "    </tr>\n",
       "    <tr>\n",
       "      <th>img_no</th>\n",
       "      <th></th>\n",
       "      <th></th>\n",
       "      <th></th>\n",
       "    </tr>\n",
       "  </thead>\n",
       "  <tbody>\n",
       "    <tr>\n",
       "      <th>337</th>\n",
       "      <td>[[[[ 0.12974337  0.16851321  0.18789811  0.168...</td>\n",
       "      <td>8</td>\n",
       "      <td>1.476870</td>\n",
       "    </tr>\n",
       "    <tr>\n",
       "      <th>69</th>\n",
       "      <td>[[[[ 2.514088   2.514088   2.4559333  2.417163...</td>\n",
       "      <td>8</td>\n",
       "      <td>2.171137</td>\n",
       "    </tr>\n",
       "  </tbody>\n",
       "</table>\n",
       "</div>"
      ],
      "text/plain": [
       "                                                      img  cluster  \\\n",
       "img_no                                                               \n",
       "337     [[[[ 0.12974337  0.16851321  0.18789811  0.168...        8   \n",
       "69      [[[[ 2.514088   2.514088   2.4559333  2.417163...        8   \n",
       "\n",
       "        cluster_dist  \n",
       "img_no                \n",
       "337         1.476870  \n",
       "69          2.171137  "
      ]
     },
     "execution_count": 12,
     "metadata": {},
     "output_type": "execute_result"
    }
   ],
   "source": [
    "grp8.tail(2)"
   ]
  }
 ],
 "metadata": {
  "kernelspec": {
   "display_name": "single_image_fl",
   "language": "python",
   "name": "python3"
  },
  "language_info": {
   "codemirror_mode": {
    "name": "ipython",
    "version": 3
   },
   "file_extension": ".py",
   "mimetype": "text/x-python",
   "name": "python",
   "nbconvert_exporter": "python",
   "pygments_lexer": "ipython3",
   "version": "3.10.11"
  },
  "orig_nbformat": 4
 },
 "nbformat": 4,
 "nbformat_minor": 2
}
