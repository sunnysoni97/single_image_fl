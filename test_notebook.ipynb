{
 "cells": [
  {
   "cell_type": "code",
   "execution_count": 1,
   "metadata": {},
   "outputs": [],
   "source": [
    "from models.cifar_resnet import cifar_resnet"
   ]
  },
  {
   "cell_type": "code",
   "execution_count": 2,
   "metadata": {},
   "outputs": [],
   "source": [
    "cresnet8 = cifar_resnet(variant=8)\n",
    "cresnet18 = cifar_resnet(variant=20)\n",
    "cresnet56 = cifar_resnet(variant=56)"
   ]
  },
  {
   "cell_type": "code",
   "execution_count": 3,
   "metadata": {},
   "outputs": [
    {
     "name": "stdout",
     "output_type": "stream",
     "text": [
      "No of layers = 7\n"
     ]
    }
   ],
   "source": [
    "no_layers = 0\n",
    "for name, parameter in cresnet8.named_parameters():\n",
    "    if(\"conv\" in name): \n",
    "        no_layers += 1\n",
    "print(f'No of layers = {no_layers}')"
   ]
  },
  {
   "cell_type": "code",
   "execution_count": 4,
   "metadata": {},
   "outputs": [
    {
     "name": "stdout",
     "output_type": "stream",
     "text": [
      "No of layers = 19\n"
     ]
    }
   ],
   "source": [
    "no_layers = 0\n",
    "for name, parameter in cresnet18.named_parameters():\n",
    "    if(\"conv\" in name): \n",
    "        no_layers += 1\n",
    "print(f'No of layers = {no_layers}')"
   ]
  },
  {
   "cell_type": "code",
   "execution_count": 5,
   "metadata": {},
   "outputs": [
    {
     "name": "stdout",
     "output_type": "stream",
     "text": [
      "No of layers = 82\n"
     ]
    }
   ],
   "source": [
    "no_layers = 0\n",
    "for name, parameter in cresnet56.named_parameters():\n",
    "    if(\"conv\" in name): \n",
    "        no_layers += 1\n",
    "print(f'No of layers = {no_layers}')"
   ]
  }
 ],
 "metadata": {
  "kernelspec": {
   "display_name": "single_image_fl",
   "language": "python",
   "name": "python3"
  },
  "language_info": {
   "codemirror_mode": {
    "name": "ipython",
    "version": 3
   },
   "file_extension": ".py",
   "mimetype": "text/x-python",
   "name": "python",
   "nbconvert_exporter": "python",
   "pygments_lexer": "ipython3",
   "version": "3.10.6"
  },
  "orig_nbformat": 4
 },
 "nbformat": 4,
 "nbformat_minor": 2
}
