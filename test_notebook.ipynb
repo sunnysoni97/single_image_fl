{
 "cells": [
  {
   "cell_type": "code",
   "execution_count": 1,
   "metadata": {},
   "outputs": [],
   "source": [
    "from models.cifar_resnet import cifar_resnet\n",
    "import torch\n",
    "from pprint import pprint"
   ]
  },
  {
   "cell_type": "code",
   "execution_count": 2,
   "metadata": {},
   "outputs": [
    {
     "name": "stdout",
     "output_type": "stream",
     "text": [
      "Initialised resnet for evaluation\n"
     ]
    }
   ],
   "source": [
    "cresnet8 = cifar_resnet(variant=8).to(torch.device('cuda'))\n",
    "cresnet8.eval()\n",
    "print('Initialised resnet for evaluation')"
   ]
  },
  {
   "cell_type": "code",
   "execution_count": 3,
   "metadata": {},
   "outputs": [],
   "source": [
    "from fed_df_data_loader.get_crops_dataloader import get_distill_imgloader\n",
    "\n",
    "distill_dataloader = get_distill_imgloader('./data/single_img_crops/crops', dataset_name='cifar10', batch_size=1024)"
   ]
  },
  {
   "cell_type": "code",
   "execution_count": 4,
   "metadata": {},
   "outputs": [],
   "source": [
    "from strategy.clustering import cluster_embeddings"
   ]
  },
  {
   "cell_type": "code",
   "execution_count": 5,
   "metadata": {},
   "outputs": [],
   "source": [
    "device = torch.device('cuda')\n",
    "test_df,score = cluster_embeddings(dataloader=distill_dataloader, model=cresnet8, device=device, seed=42)"
   ]
  },
  {
   "cell_type": "code",
   "execution_count": 6,
   "metadata": {},
   "outputs": [
    {
     "name": "stdout",
     "output_type": "stream",
     "text": [
      "11484.3173828125\n"
     ]
    },
    {
     "data": {
      "text/html": [
       "<div>\n",
       "<style scoped>\n",
       "    .dataframe tbody tr th:only-of-type {\n",
       "        vertical-align: middle;\n",
       "    }\n",
       "\n",
       "    .dataframe tbody tr th {\n",
       "        vertical-align: top;\n",
       "    }\n",
       "\n",
       "    .dataframe thead th {\n",
       "        text-align: right;\n",
       "    }\n",
       "</style>\n",
       "<table border=\"1\" class=\"dataframe\">\n",
       "  <thead>\n",
       "    <tr style=\"text-align: right;\">\n",
       "      <th></th>\n",
       "      <th>img</th>\n",
       "      <th>cluster</th>\n",
       "      <th>cluster_dist</th>\n",
       "    </tr>\n",
       "    <tr>\n",
       "      <th>img_no</th>\n",
       "      <th></th>\n",
       "      <th></th>\n",
       "      <th></th>\n",
       "    </tr>\n",
       "  </thead>\n",
       "  <tbody>\n",
       "    <tr>\n",
       "      <th>0</th>\n",
       "      <td>[[[[-2.390296   -2.4290657  -2.4290657  -2.429...</td>\n",
       "      <td>3</td>\n",
       "      <td>0.378745</td>\n",
       "    </tr>\n",
       "    <tr>\n",
       "      <th>1</th>\n",
       "      <td>[[[[ 1.4479177   1.5836121   0.8469853   2.126...</td>\n",
       "      <td>5</td>\n",
       "      <td>0.480828</td>\n",
       "    </tr>\n",
       "    <tr>\n",
       "      <th>2</th>\n",
       "      <td>[[[[-2.4290657  -2.4096808   1.4673026   1.622...</td>\n",
       "      <td>5</td>\n",
       "      <td>0.348976</td>\n",
       "    </tr>\n",
       "    <tr>\n",
       "      <th>3</th>\n",
       "      <td>[[[[-0.8395026  -0.95581204  0.24605286  1.215...</td>\n",
       "      <td>7</td>\n",
       "      <td>0.405724</td>\n",
       "    </tr>\n",
       "    <tr>\n",
       "      <th>4</th>\n",
       "      <td>[[[[ 1.5836121   1.370378    0.90514     0.827...</td>\n",
       "      <td>0</td>\n",
       "      <td>0.900774</td>\n",
       "    </tr>\n",
       "  </tbody>\n",
       "</table>\n",
       "</div>"
      ],
      "text/plain": [
       "                                                      img  cluster  \\\n",
       "img_no                                                               \n",
       "0       [[[[-2.390296   -2.4290657  -2.4290657  -2.429...        3   \n",
       "1       [[[[ 1.4479177   1.5836121   0.8469853   2.126...        5   \n",
       "2       [[[[-2.4290657  -2.4096808   1.4673026   1.622...        5   \n",
       "3       [[[[-0.8395026  -0.95581204  0.24605286  1.215...        7   \n",
       "4       [[[[ 1.5836121   1.370378    0.90514     0.827...        0   \n",
       "\n",
       "        cluster_dist  \n",
       "img_no                \n",
       "0           0.378745  \n",
       "1           0.480828  \n",
       "2           0.348976  \n",
       "3           0.405724  \n",
       "4           0.900774  "
      ]
     },
     "execution_count": 6,
     "metadata": {},
     "output_type": "execute_result"
    }
   ],
   "source": [
    "print(score)\n",
    "test_df.head()"
   ]
  },
  {
   "cell_type": "code",
   "execution_count": 7,
   "metadata": {},
   "outputs": [],
   "source": [
    "from strategy.clustering import prune_clusters"
   ]
  },
  {
   "cell_type": "code",
   "execution_count": 8,
   "metadata": {},
   "outputs": [
    {
     "data": {
      "text/html": [
       "<div>\n",
       "<style scoped>\n",
       "    .dataframe tbody tr th:only-of-type {\n",
       "        vertical-align: middle;\n",
       "    }\n",
       "\n",
       "    .dataframe tbody tr th {\n",
       "        vertical-align: top;\n",
       "    }\n",
       "\n",
       "    .dataframe thead th {\n",
       "        text-align: right;\n",
       "    }\n",
       "</style>\n",
       "<table border=\"1\" class=\"dataframe\">\n",
       "  <thead>\n",
       "    <tr style=\"text-align: right;\">\n",
       "      <th></th>\n",
       "      <th>img</th>\n",
       "      <th>cluster</th>\n",
       "      <th>cluster_dist</th>\n",
       "    </tr>\n",
       "    <tr>\n",
       "      <th>img_no</th>\n",
       "      <th></th>\n",
       "      <th></th>\n",
       "      <th></th>\n",
       "    </tr>\n",
       "  </thead>\n",
       "  <tbody>\n",
       "    <tr>\n",
       "      <th>0</th>\n",
       "      <td>[[[[-1.6342843  -1.9832127   0.14912829  0.323...</td>\n",
       "      <td>4</td>\n",
       "      <td>0.884475</td>\n",
       "    </tr>\n",
       "    <tr>\n",
       "      <th>1</th>\n",
       "      <td>[[[[ 0.9439098   0.20728303  0.47867185  0.885...</td>\n",
       "      <td>1</td>\n",
       "      <td>0.165025</td>\n",
       "    </tr>\n",
       "    <tr>\n",
       "      <th>2</th>\n",
       "      <td>[[[[-1.1108913  -0.4130344  -0.7813478  -1.246...</td>\n",
       "      <td>1</td>\n",
       "      <td>0.152034</td>\n",
       "    </tr>\n",
       "    <tr>\n",
       "      <th>3</th>\n",
       "      <td>[[[[-2.1770618  -2.2546015  -2.2158318  -2.060...</td>\n",
       "      <td>6</td>\n",
       "      <td>0.447590</td>\n",
       "    </tr>\n",
       "    <tr>\n",
       "      <th>4</th>\n",
       "      <td>[[[[-0.8395026  -1.0721215  -0.7813478  -0.645...</td>\n",
       "      <td>9</td>\n",
       "      <td>0.161662</td>\n",
       "    </tr>\n",
       "  </tbody>\n",
       "</table>\n",
       "</div>"
      ],
      "text/plain": [
       "                                                      img  cluster  \\\n",
       "img_no                                                               \n",
       "0       [[[[-1.6342843  -1.9832127   0.14912829  0.323...        4   \n",
       "1       [[[[ 0.9439098   0.20728303  0.47867185  0.885...        1   \n",
       "2       [[[[-1.1108913  -0.4130344  -0.7813478  -1.246...        1   \n",
       "3       [[[[-2.1770618  -2.2546015  -2.2158318  -2.060...        6   \n",
       "4       [[[[-0.8395026  -1.0721215  -0.7813478  -0.645...        9   \n",
       "\n",
       "        cluster_dist  \n",
       "img_no                \n",
       "0           0.884475  \n",
       "1           0.165025  \n",
       "2           0.152034  \n",
       "3           0.447590  \n",
       "4           0.161662  "
      ]
     },
     "execution_count": 8,
     "metadata": {},
     "output_type": "execute_result"
    }
   ],
   "source": [
    "test_df2 = prune_clusters(test_df,n_crops=3000,heuristic_percentage=\"60-40\")\n",
    "test_df2.head()\n"
   ]
  },
  {
   "cell_type": "code",
   "execution_count": 9,
   "metadata": {},
   "outputs": [],
   "source": [
    "from strategy.clustering import visualise_clusters"
   ]
  },
  {
   "cell_type": "code",
   "execution_count": 10,
   "metadata": {},
   "outputs": [],
   "source": [
    "with open('test_img.png','wb') as f:\n",
    "    visualise_clusters(test_df2,f,n_imgs=8)"
   ]
  }
 ],
 "metadata": {
  "kernelspec": {
   "display_name": "single_image_fl",
   "language": "python",
   "name": "python3"
  },
  "language_info": {
   "codemirror_mode": {
    "name": "ipython",
    "version": 3
   },
   "file_extension": ".py",
   "mimetype": "text/x-python",
   "name": "python",
   "nbconvert_exporter": "python",
   "pygments_lexer": "ipython3",
   "version": "3.10.11"
  },
  "orig_nbformat": 4
 },
 "nbformat": 4,
 "nbformat_minor": 2
}
