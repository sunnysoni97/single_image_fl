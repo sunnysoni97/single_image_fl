{
 "cells": [
  {
   "cell_type": "code",
   "execution_count": 1,
   "metadata": {},
   "outputs": [],
   "source": [
    "from models.cifar_resnet import cifar_resnet\n",
    "import torch\n",
    "from pprint import pprint"
   ]
  },
  {
   "cell_type": "code",
   "execution_count": 2,
   "metadata": {},
   "outputs": [
    {
     "name": "stdout",
     "output_type": "stream",
     "text": [
      "Initialised resnet for evaluation\n"
     ]
    }
   ],
   "source": [
    "cresnet8 = cifar_resnet(variant=8).to(torch.device('cuda'))\n",
    "cresnet8.eval()\n",
    "print('Initialised resnet for evaluation')"
   ]
  },
  {
   "cell_type": "code",
   "execution_count": 3,
   "metadata": {},
   "outputs": [],
   "source": [
    "from fed_df_data_loader.get_crops_dataloader import get_distill_imgloader\n",
    "\n",
    "distill_dataloader = get_distill_imgloader('./data/single_img_crops/crops', dataset_name='cifar10', batch_size=1024)"
   ]
  },
  {
   "cell_type": "code",
   "execution_count": 4,
   "metadata": {},
   "outputs": [],
   "source": [
    "from strategy.clustering import cluster_embeddings"
   ]
  },
  {
   "cell_type": "code",
   "execution_count": 5,
   "metadata": {},
   "outputs": [],
   "source": [
    "device = torch.device('cuda')\n",
    "test_df,score = cluster_embeddings(dataloader=distill_dataloader, model=cresnet8, device=device, seed=42)"
   ]
  },
  {
   "cell_type": "code",
   "execution_count": 6,
   "metadata": {},
   "outputs": [
    {
     "name": "stdout",
     "output_type": "stream",
     "text": [
      "16809.14453125\n"
     ]
    },
    {
     "data": {
      "text/html": [
       "<div>\n",
       "<style scoped>\n",
       "    .dataframe tbody tr th:only-of-type {\n",
       "        vertical-align: middle;\n",
       "    }\n",
       "\n",
       "    .dataframe tbody tr th {\n",
       "        vertical-align: top;\n",
       "    }\n",
       "\n",
       "    .dataframe thead th {\n",
       "        text-align: right;\n",
       "    }\n",
       "</style>\n",
       "<table border=\"1\" class=\"dataframe\">\n",
       "  <thead>\n",
       "    <tr style=\"text-align: right;\">\n",
       "      <th></th>\n",
       "      <th>img</th>\n",
       "      <th>cluster</th>\n",
       "      <th>cluster_dist</th>\n",
       "    </tr>\n",
       "    <tr>\n",
       "      <th>img_no</th>\n",
       "      <th></th>\n",
       "      <th></th>\n",
       "      <th></th>\n",
       "    </tr>\n",
       "  </thead>\n",
       "  <tbody>\n",
       "    <tr>\n",
       "      <th>0</th>\n",
       "      <td>[[[[-2.390296   -2.4290657  -2.4290657  -2.429...</td>\n",
       "      <td>8</td>\n",
       "      <td>0.296791</td>\n",
       "    </tr>\n",
       "    <tr>\n",
       "      <th>1</th>\n",
       "      <td>[[[[ 1.4479177   1.5836121   0.8469853   2.126...</td>\n",
       "      <td>9</td>\n",
       "      <td>0.748865</td>\n",
       "    </tr>\n",
       "    <tr>\n",
       "      <th>2</th>\n",
       "      <td>[[[[-2.4290657  -2.4096808   1.4673026   1.622...</td>\n",
       "      <td>1</td>\n",
       "      <td>0.606561</td>\n",
       "    </tr>\n",
       "    <tr>\n",
       "      <th>3</th>\n",
       "      <td>[[[[-0.8395026  -0.95581204  0.24605286  1.215...</td>\n",
       "      <td>2</td>\n",
       "      <td>0.495888</td>\n",
       "    </tr>\n",
       "    <tr>\n",
       "      <th>4</th>\n",
       "      <td>[[[[ 1.5836121   1.370378    0.90514     0.827...</td>\n",
       "      <td>5</td>\n",
       "      <td>0.708190</td>\n",
       "    </tr>\n",
       "  </tbody>\n",
       "</table>\n",
       "</div>"
      ],
      "text/plain": [
       "                                                      img  cluster  \\\n",
       "img_no                                                               \n",
       "0       [[[[-2.390296   -2.4290657  -2.4290657  -2.429...        8   \n",
       "1       [[[[ 1.4479177   1.5836121   0.8469853   2.126...        9   \n",
       "2       [[[[-2.4290657  -2.4096808   1.4673026   1.622...        1   \n",
       "3       [[[[-0.8395026  -0.95581204  0.24605286  1.215...        2   \n",
       "4       [[[[ 1.5836121   1.370378    0.90514     0.827...        5   \n",
       "\n",
       "        cluster_dist  \n",
       "img_no                \n",
       "0           0.296791  \n",
       "1           0.748865  \n",
       "2           0.606561  \n",
       "3           0.495888  \n",
       "4           0.708190  "
      ]
     },
     "execution_count": 6,
     "metadata": {},
     "output_type": "execute_result"
    }
   ],
   "source": [
    "print(score)\n",
    "test_df.head()"
   ]
  },
  {
   "cell_type": "code",
   "execution_count": 7,
   "metadata": {},
   "outputs": [],
   "source": [
    "from strategy.clustering import prune_clusters"
   ]
  },
  {
   "cell_type": "code",
   "execution_count": 8,
   "metadata": {},
   "outputs": [
    {
     "data": {
      "text/html": [
       "<div>\n",
       "<style scoped>\n",
       "    .dataframe tbody tr th:only-of-type {\n",
       "        vertical-align: middle;\n",
       "    }\n",
       "\n",
       "    .dataframe tbody tr th {\n",
       "        vertical-align: top;\n",
       "    }\n",
       "\n",
       "    .dataframe thead th {\n",
       "        text-align: right;\n",
       "    }\n",
       "</style>\n",
       "<table border=\"1\" class=\"dataframe\">\n",
       "  <thead>\n",
       "    <tr style=\"text-align: right;\">\n",
       "      <th></th>\n",
       "      <th>img</th>\n",
       "      <th>cluster</th>\n",
       "      <th>cluster_dist</th>\n",
       "    </tr>\n",
       "    <tr>\n",
       "      <th>img_no</th>\n",
       "      <th></th>\n",
       "      <th></th>\n",
       "      <th></th>\n",
       "    </tr>\n",
       "  </thead>\n",
       "  <tbody>\n",
       "    <tr>\n",
       "      <th>0</th>\n",
       "      <td>[[[[-0.8395026  -1.0721215  -0.7813478  -0.645...</td>\n",
       "      <td>7</td>\n",
       "      <td>0.324818</td>\n",
       "    </tr>\n",
       "    <tr>\n",
       "      <th>1</th>\n",
       "      <td>[[[[-2.4290657  -2.0801373   0.24605286  0.846...</td>\n",
       "      <td>0</td>\n",
       "      <td>0.252581</td>\n",
       "    </tr>\n",
       "    <tr>\n",
       "      <th>2</th>\n",
       "      <td>[[[[-0.7813478  -0.47118917 -0.7038081  -1.130...</td>\n",
       "      <td>0</td>\n",
       "      <td>0.236755</td>\n",
       "    </tr>\n",
       "    <tr>\n",
       "      <th>3</th>\n",
       "      <td>[[[[-1.2659708  -0.72319305 -0.37426457 -0.471...</td>\n",
       "      <td>3</td>\n",
       "      <td>2.108626</td>\n",
       "    </tr>\n",
       "    <tr>\n",
       "      <th>4</th>\n",
       "      <td>[[[[ 2.514088    2.494703    2.4559333   2.320...</td>\n",
       "      <td>3</td>\n",
       "      <td>0.390215</td>\n",
       "    </tr>\n",
       "  </tbody>\n",
       "</table>\n",
       "</div>"
      ],
      "text/plain": [
       "                                                      img  cluster  \\\n",
       "img_no                                                               \n",
       "0       [[[[-0.8395026  -1.0721215  -0.7813478  -0.645...        7   \n",
       "1       [[[[-2.4290657  -2.0801373   0.24605286  0.846...        0   \n",
       "2       [[[[-0.7813478  -0.47118917 -0.7038081  -1.130...        0   \n",
       "3       [[[[-1.2659708  -0.72319305 -0.37426457 -0.471...        3   \n",
       "4       [[[[ 2.514088    2.494703    2.4559333   2.320...        3   \n",
       "\n",
       "        cluster_dist  \n",
       "img_no                \n",
       "0           0.324818  \n",
       "1           0.252581  \n",
       "2           0.236755  \n",
       "3           2.108626  \n",
       "4           0.390215  "
      ]
     },
     "execution_count": 8,
     "metadata": {},
     "output_type": "execute_result"
    }
   ],
   "source": [
    "test_df2 = prune_clusters(test_df,n_crops=3000,heuristic_percentage=\"60-40\")\n",
    "test_df2.head()\n"
   ]
  },
  {
   "cell_type": "code",
   "execution_count": 9,
   "metadata": {},
   "outputs": [],
   "source": [
    "from strategy.clustering import visualise_clusters"
   ]
  },
  {
   "cell_type": "code",
   "execution_count": 10,
   "metadata": {},
   "outputs": [],
   "source": [
    "with open('test_img.png','wb') as f:\n",
    "    visualise_clusters(test_df2,f,n_imgs=8,n_classes=10)"
   ]
  },
  {
   "cell_type": "code",
   "execution_count": 11,
   "metadata": {},
   "outputs": [
    {
     "name": "stdout",
     "output_type": "stream",
     "text": [
      "<class 'bytes'>\n"
     ]
    }
   ],
   "source": [
    "from strategy.clustering import prepare_for_transport\n",
    "\n",
    "out = prepare_for_transport(test_df2)\n",
    "print(type(out))"
   ]
  },
  {
   "cell_type": "code",
   "execution_count": 12,
   "metadata": {},
   "outputs": [
    {
     "name": "stdout",
     "output_type": "stream",
     "text": [
      "torch.Size([512, 3, 32, 32])\n",
      "torch.Size([3, 32, 32])\n",
      "tensor(1)\n"
     ]
    }
   ],
   "source": [
    "from strategy.clustering import extract_from_transport\n",
    "\n",
    "img_loader = extract_from_transport(out)\n",
    "imgs, labels = next(iter(img_loader))\n",
    "print(imgs.size())\n",
    "print(imgs[0].size())\n",
    "print(labels[0])"
   ]
  }
 ],
 "metadata": {
  "kernelspec": {
   "display_name": "single_image_fl",
   "language": "python",
   "name": "python3"
  },
  "language_info": {
   "codemirror_mode": {
    "name": "ipython",
    "version": 3
   },
   "file_extension": ".py",
   "mimetype": "text/x-python",
   "name": "python",
   "nbconvert_exporter": "python",
   "pygments_lexer": "ipython3",
   "version": "3.10.11"
  },
  "orig_nbformat": 4
 },
 "nbformat": 4,
 "nbformat_minor": 2
}
