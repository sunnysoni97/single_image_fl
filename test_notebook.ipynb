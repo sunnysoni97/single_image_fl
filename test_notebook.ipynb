{
 "cells": [
  {
   "cell_type": "code",
   "execution_count": 1,
   "metadata": {},
   "outputs": [],
   "source": [
    "from models.cifar_resnet import cifar_resnet\n",
    "import torch"
   ]
  },
  {
   "cell_type": "code",
   "execution_count": 2,
   "metadata": {},
   "outputs": [
    {
     "name": "stdout",
     "output_type": "stream",
     "text": [
      "Initialised resnet for evaluation\n"
     ]
    }
   ],
   "source": [
    "cresnet8 = cifar_resnet(variant=8).to(torch.device('cuda'))\n",
    "cresnet8.eval()\n",
    "print('Initialised resnet for evaluation')"
   ]
  },
  {
   "cell_type": "code",
   "execution_count": 3,
   "metadata": {},
   "outputs": [],
   "source": [
    "from fed_df_data_loader.get_crops_dataloader import get_distill_imgloader\n",
    "\n",
    "distill_dataloader = get_distill_imgloader('./data/single_img_crops/crops', dataset_name='cifar10', batch_size=1024)"
   ]
  },
  {
   "cell_type": "code",
   "execution_count": 4,
   "metadata": {},
   "outputs": [],
   "source": [
    "from strategy.clustering import cluster_embeddings"
   ]
  },
  {
   "cell_type": "code",
   "execution_count": 5,
   "metadata": {},
   "outputs": [],
   "source": [
    "device = torch.device('cuda')\n",
    "\n",
    "test_df,score = cluster_embeddings(dataloader=distill_dataloader, model=cresnet8, device=device, seed=42)"
   ]
  },
  {
   "cell_type": "code",
   "execution_count": 6,
   "metadata": {},
   "outputs": [
    {
     "name": "stdout",
     "output_type": "stream",
     "text": [
      "11981.16796875\n"
     ]
    },
    {
     "data": {
      "text/html": [
       "<div>\n",
       "<style scoped>\n",
       "    .dataframe tbody tr th:only-of-type {\n",
       "        vertical-align: middle;\n",
       "    }\n",
       "\n",
       "    .dataframe tbody tr th {\n",
       "        vertical-align: top;\n",
       "    }\n",
       "\n",
       "    .dataframe thead th {\n",
       "        text-align: right;\n",
       "    }\n",
       "</style>\n",
       "<table border=\"1\" class=\"dataframe\">\n",
       "  <thead>\n",
       "    <tr style=\"text-align: right;\">\n",
       "      <th></th>\n",
       "      <th>img</th>\n",
       "      <th>embedding</th>\n",
       "      <th>cluster</th>\n",
       "      <th>cluster_dist</th>\n",
       "    </tr>\n",
       "  </thead>\n",
       "  <tbody>\n",
       "    <tr>\n",
       "      <th>0</th>\n",
       "      <td>[[[[-2.390296   -2.4290657  -2.4290657  -2.429...</td>\n",
       "      <td>[[0.33308095, 0.21186651, 0.0, 0.004208742, 0....</td>\n",
       "      <td>[4]</td>\n",
       "      <td>0.422726</td>\n",
       "    </tr>\n",
       "    <tr>\n",
       "      <th>1</th>\n",
       "      <td>[[[[ 1.4479177   1.5836121   0.8469853   2.126...</td>\n",
       "      <td>[[0.75528586, 0.3410688, 0.0, 0.06808968, 0.43...</td>\n",
       "      <td>[0]</td>\n",
       "      <td>0.390303</td>\n",
       "    </tr>\n",
       "    <tr>\n",
       "      <th>2</th>\n",
       "      <td>[[[[-2.4290657  -2.4096808   1.4673026   1.622...</td>\n",
       "      <td>[[1.0909069, 0.28130844, 0.0, 0.09170427, 0.40...</td>\n",
       "      <td>[8]</td>\n",
       "      <td>0.521759</td>\n",
       "    </tr>\n",
       "    <tr>\n",
       "      <th>3</th>\n",
       "      <td>[[[[-0.8395026  -0.95581204  0.24605286  1.215...</td>\n",
       "      <td>[[0.59936374, 0.29917645, 0.0, 0.08600866, 0.3...</td>\n",
       "      <td>[9]</td>\n",
       "      <td>0.398916</td>\n",
       "    </tr>\n",
       "    <tr>\n",
       "      <th>4</th>\n",
       "      <td>[[[[ 1.5836121   1.370378    0.90514     0.827...</td>\n",
       "      <td>[[1.0377738, 0.32421362, 0.0, 0.07541224, 0.48...</td>\n",
       "      <td>[8]</td>\n",
       "      <td>0.531128</td>\n",
       "    </tr>\n",
       "  </tbody>\n",
       "</table>\n",
       "</div>"
      ],
      "text/plain": [
       "                                                 img  \\\n",
       "0  [[[[-2.390296   -2.4290657  -2.4290657  -2.429...   \n",
       "1  [[[[ 1.4479177   1.5836121   0.8469853   2.126...   \n",
       "2  [[[[-2.4290657  -2.4096808   1.4673026   1.622...   \n",
       "3  [[[[-0.8395026  -0.95581204  0.24605286  1.215...   \n",
       "4  [[[[ 1.5836121   1.370378    0.90514     0.827...   \n",
       "\n",
       "                                           embedding cluster  cluster_dist  \n",
       "0  [[0.33308095, 0.21186651, 0.0, 0.004208742, 0....     [4]      0.422726  \n",
       "1  [[0.75528586, 0.3410688, 0.0, 0.06808968, 0.43...     [0]      0.390303  \n",
       "2  [[1.0909069, 0.28130844, 0.0, 0.09170427, 0.40...     [8]      0.521759  \n",
       "3  [[0.59936374, 0.29917645, 0.0, 0.08600866, 0.3...     [9]      0.398916  \n",
       "4  [[1.0377738, 0.32421362, 0.0, 0.07541224, 0.48...     [8]      0.531128  "
      ]
     },
     "execution_count": 6,
     "metadata": {},
     "output_type": "execute_result"
    }
   ],
   "source": [
    "print(score)\n",
    "test_df.head()"
   ]
  }
 ],
 "metadata": {
  "kernelspec": {
   "display_name": "single_image_fl",
   "language": "python",
   "name": "python3"
  },
  "language_info": {
   "codemirror_mode": {
    "name": "ipython",
    "version": 3
   },
   "file_extension": ".py",
   "mimetype": "text/x-python",
   "name": "python",
   "nbconvert_exporter": "python",
   "pygments_lexer": "ipython3",
   "version": "3.10.11"
  },
  "orig_nbformat": 4
 },
 "nbformat": 4,
 "nbformat_minor": 2
}
