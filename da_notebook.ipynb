{
 "cells": [
  {
   "cell_type": "markdown",
   "metadata": {},
   "source": [
    "Importing Datasets"
   ]
  },
  {
   "cell_type": "code",
   "execution_count": 1,
   "metadata": {},
   "outputs": [],
   "source": [
    "from torchvision.datasets import CIFAR10, CIFAR100\n",
    "from medmnist import OrganAMNIST, PathMNIST"
   ]
  },
  {
   "cell_type": "code",
   "execution_count": 2,
   "metadata": {},
   "outputs": [
    {
     "name": "stdout",
     "output_type": "stream",
     "text": [
      "Files already downloaded and verified\n",
      "Downloading https://www.cs.toronto.edu/~kriz/cifar-100-python.tar.gz to ./data/cifar-100-python.tar.gz\n"
     ]
    },
    {
     "data": {
      "application/vnd.jupyter.widget-view+json": {
       "model_id": "ef627a5c3d45404da36a30087f61be3a",
       "version_major": 2,
       "version_minor": 0
      },
      "text/plain": [
       "  0%|          | 0/169001437 [00:00<?, ?it/s]"
      ]
     },
     "metadata": {},
     "output_type": "display_data"
    },
    {
     "name": "stdout",
     "output_type": "stream",
     "text": [
      "Extracting ./data/cifar-100-python.tar.gz to ./data\n",
      "Using downloaded and verified file: ./data/pathmnist.npz\n",
      "Using downloaded and verified file: ./data/organamnist.npz\n"
     ]
    }
   ],
   "source": [
    "data_dir = \"./data\"\n",
    "\n",
    "cif10 = CIFAR10(root=data_dir, train=True, download=True)\n",
    "cif100 = CIFAR100(root=data_dir, train=True, download=True)\n",
    "pathmnist = PathMNIST(root=data_dir, split=\"train\", download=True)\n",
    "organmnist = OrganAMNIST(root=data_dir, split=\"train\", download=True)"
   ]
  },
  {
   "cell_type": "markdown",
   "metadata": {},
   "source": [
    "Calculating Class Distribution"
   ]
  },
  {
   "cell_type": "code",
   "execution_count": 5,
   "metadata": {},
   "outputs": [],
   "source": [
    "import pandas as pd\n",
    "\n",
    "def print_class_dist(dataset, dataset_name):\n",
    "    label_list = []\n",
    "    for _,label in iter(dataset):\n",
    "        label_list.append(label)\n",
    "    \n",
    "    df = pd.DataFrame(data={'label':label_list})\n",
    "    print(f'{dataset_name} class distribution : ')\n",
    "    print(df['label'].value_counts())\n",
    "    print(\"----------\")\n"
   ]
  },
  {
   "cell_type": "code",
   "execution_count": 6,
   "metadata": {},
   "outputs": [
    {
     "name": "stdout",
     "output_type": "stream",
     "text": [
      "CIF10 class distribution : \n",
      "6    5000\n",
      "9    5000\n",
      "4    5000\n",
      "1    5000\n",
      "2    5000\n",
      "7    5000\n",
      "8    5000\n",
      "3    5000\n",
      "5    5000\n",
      "0    5000\n",
      "Name: label, dtype: int64\n",
      "----------\n"
     ]
    }
   ],
   "source": [
    "print_class_dist(cif10, \"CIF10\")"
   ]
  },
  {
   "cell_type": "code",
   "execution_count": 7,
   "metadata": {},
   "outputs": [
    {
     "name": "stdout",
     "output_type": "stream",
     "text": [
      "CIF100 class distribution : \n",
      "19    500\n",
      "69    500\n",
      "88    500\n",
      "32    500\n",
      "34    500\n",
      "     ... \n",
      "81    500\n",
      "22    500\n",
      "21    500\n",
      "65    500\n",
      "16    500\n",
      "Name: label, Length: 100, dtype: int64\n",
      "----------\n"
     ]
    }
   ],
   "source": [
    "print_class_dist(cif100, \"CIF100\")"
   ]
  },
  {
   "cell_type": "code",
   "execution_count": 8,
   "metadata": {},
   "outputs": [
    {
     "name": "stdout",
     "output_type": "stream",
     "text": [
      "PathMNIST class distribution : \n",
      "[8]    12885\n",
      "[5]    12182\n",
      "[3]    10401\n",
      "[2]    10360\n",
      "[1]     9509\n",
      "[7]     9401\n",
      "[0]     9366\n",
      "[4]     8006\n",
      "[6]     7886\n",
      "Name: label, dtype: int64\n",
      "----------\n"
     ]
    }
   ],
   "source": [
    "print_class_dist(pathmnist, \"PathMNIST\")"
   ]
  },
  {
   "cell_type": "code",
   "execution_count": 9,
   "metadata": {},
   "outputs": [
    {
     "name": "stdout",
     "output_type": "stream",
     "text": [
      "OrganMNIST class distribution : \n",
      "[6]     6164\n",
      "[4]     3963\n",
      "[8]     3929\n",
      "[7]     3919\n",
      "[5]     3817\n",
      "[10]    3561\n",
      "[9]     3031\n",
      "[0]     1956\n",
      "[3]     1474\n",
      "[1]     1408\n",
      "[2]     1359\n",
      "Name: label, dtype: int64\n",
      "----------\n"
     ]
    }
   ],
   "source": [
    "print_class_dist(organmnist, \"OrganMNIST\")"
   ]
  }
 ],
 "metadata": {
  "kernelspec": {
   "display_name": "single_image_fl",
   "language": "python",
   "name": "python3"
  },
  "language_info": {
   "codemirror_mode": {
    "name": "ipython",
    "version": 3
   },
   "file_extension": ".py",
   "mimetype": "text/x-python",
   "name": "python",
   "nbconvert_exporter": "python",
   "pygments_lexer": "ipython3",
   "version": "3.10.11"
  },
  "orig_nbformat": 4
 },
 "nbformat": 4,
 "nbformat_minor": 2
}
